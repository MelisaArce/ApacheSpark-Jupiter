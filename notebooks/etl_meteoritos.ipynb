{
 "cells": [
  {
   "cell_type": "markdown",
   "id": "a7bb3504-7b01-4a25-a3ab-f800c97b1e9c",
   "metadata": {},
   "source": [
    "## IMPORT NECESARIOS"
   ]
  },
  {
   "cell_type": "code",
   "execution_count": 1,
   "id": "8a0783ee-31d2-49ac-8178-74d5f730d2d7",
   "metadata": {},
   "outputs": [],
   "source": [
    "from pyspark.sql import SparkSession, Row\n",
    "from pyspark.sql.functions import col, sum, desc, asc\n"
   ]
  },
  {
   "cell_type": "markdown",
   "id": "74253d46-cd60-472f-a8b4-fc0724fff69d",
   "metadata": {},
   "source": [
    "## CREACION DE LA SESION DE SPARK"
   ]
  },
  {
   "cell_type": "code",
   "execution_count": 2,
   "id": "d076d04a-f741-4fb6-ac95-d2674a7e692f",
   "metadata": {},
   "outputs": [],
   "source": [
    "spark = SparkSession.builder\\\n",
    "    .appName(\"ETL meteoritos\")\\\n",
    "    .getOrCreate()\n"
   ]
  },
  {
   "cell_type": "code",
   "execution_count": 3,
   "id": "b1232257-5d32-4da2-911f-04124df129f9",
   "metadata": {},
   "outputs": [
    {
     "data": {
      "text/html": [
       "\n",
       "            <div>\n",
       "                <p><b>SparkSession - in-memory</b></p>\n",
       "                \n",
       "        <div>\n",
       "            <p><b>SparkContext</b></p>\n",
       "\n",
       "            <p><a href=\"http://d92100522e82:4041\">Spark UI</a></p>\n",
       "\n",
       "            <dl>\n",
       "              <dt>Version</dt>\n",
       "                <dd><code>v3.5.0</code></dd>\n",
       "              <dt>Master</dt>\n",
       "                <dd><code>local[*]</code></dd>\n",
       "              <dt>AppName</dt>\n",
       "                <dd><code>ETL meteoritos</code></dd>\n",
       "            </dl>\n",
       "        </div>\n",
       "        \n",
       "            </div>\n",
       "        "
      ],
      "text/plain": [
       "<pyspark.sql.session.SparkSession at 0x768c017c9f10>"
      ]
     },
     "execution_count": 3,
     "metadata": {},
     "output_type": "execute_result"
    }
   ],
   "source": [
    "spark"
   ]
  },
  {
   "cell_type": "markdown",
   "id": "5288dc8a-c8f4-492a-90f7-1db5d07dcf0f",
   "metadata": {},
   "source": [
    "## LECTURA DE LOS DATOS"
   ]
  },
  {
   "cell_type": "code",
   "execution_count": 5,
   "id": "8b71e0ac-22af-4f4d-8a5c-a07537c2a93f",
   "metadata": {},
   "outputs": [
    {
     "name": "stdout",
     "output_type": "stream",
     "text": [
      "False\n"
     ]
    }
   ],
   "source": [
    "import os\n",
    "print(os.path.exists(\"/home/jovyan/work/Meteorite.csv\"))\n"
   ]
  },
  {
   "cell_type": "code",
   "execution_count": 6,
   "id": "82b899eb-9a74-4f89-8097-6c6b59545a96",
   "metadata": {},
   "outputs": [
    {
     "name": "stdout",
     "output_type": "stream",
     "text": [
      "total 3.8M\n",
      "drwxrwxr-x 4 jovyan  1000 4.0K Mar  2 19:14 .\n",
      "drwsrws--- 1 jovyan users 4.0K Mar  2 18:51 ..\n",
      "-rw-rw-r-- 1 jovyan  1000  18K Mar  2 19:14 etl_meteoritos.ipynb\n",
      "drwxrwxr-x 2 jovyan  1000 4.0K Dec 13  1901 iframe_figures\n",
      "drwxrwxr-x 2 jovyan  1000 4.0K Mar  2 19:12 .ipynb_checkpoints\n",
      "-rw-rw-r-- 1 jovyan  1000 3.7M Jan  1  1980 m.csv\n",
      "-rw-rw-r-- 1 jovyan  1000  42K Mar  2 19:12 meteoritos_eda.ipynb\n",
      "-rw-r--r-- 1 jovyan users  617 Mar  2 19:14 Untitled.ipynb\n"
     ]
    }
   ],
   "source": [
    "!ls -lah /home/jovyan/work/\n"
   ]
  },
  {
   "cell_type": "code",
   "execution_count": 7,
   "id": "a9ec47dc-9c85-4333-9511-55bfe174c29b",
   "metadata": {},
   "outputs": [
    {
     "name": "stdout",
     "output_type": "stream",
     "text": [
      "False\n"
     ]
    }
   ],
   "source": [
    "import os\n",
    "print(os.access(\"/home/jovyan/work/Meteorite.csv\", os.R_OK))\n"
   ]
  },
  {
   "cell_type": "code",
   "execution_count": 4,
   "id": "d18e3a3a-0a42-4907-82c3-b94d71b1d3dc",
   "metadata": {},
   "outputs": [
    {
     "ename": "AnalysisException",
     "evalue": "[PATH_NOT_FOUND] Path does not exist: file:/home/jovyan/work/Meteorite.csv.",
     "output_type": "error",
     "traceback": [
      "\u001b[0;31m---------------------------------------------------------------------------\u001b[0m",
      "\u001b[0;31mAnalysisException\u001b[0m                         Traceback (most recent call last)",
      "Cell \u001b[0;32mIn[4], line 1\u001b[0m\n\u001b[0;32m----> 1\u001b[0m df\u001b[38;5;241m=\u001b[39m \u001b[43mspark\u001b[49m\u001b[38;5;241;43m.\u001b[39;49m\u001b[43mread\u001b[49m\u001b[38;5;241;43m.\u001b[39;49m\u001b[43mcsv\u001b[49m\u001b[43m(\u001b[49m\u001b[38;5;124;43m\"\u001b[39;49m\u001b[38;5;124;43mMeteorite.csv\u001b[39;49m\u001b[38;5;124;43m\"\u001b[39;49m\u001b[43m,\u001b[49m\u001b[43m \u001b[49m\u001b[43mheader\u001b[49m\u001b[38;5;241;43m=\u001b[39;49m\u001b[38;5;28;43;01mTrue\u001b[39;49;00m\u001b[43m,\u001b[49m\u001b[43m \u001b[49m\u001b[43minferSchema\u001b[49m\u001b[38;5;241;43m=\u001b[39;49m\u001b[43m \u001b[49m\u001b[38;5;28;43;01mTrue\u001b[39;49;00m\u001b[43m)\u001b[49m\n",
      "File \u001b[0;32m/usr/local/spark/python/pyspark/sql/readwriter.py:740\u001b[0m, in \u001b[0;36mDataFrameReader.csv\u001b[0;34m(self, path, schema, sep, encoding, quote, escape, comment, header, inferSchema, ignoreLeadingWhiteSpace, ignoreTrailingWhiteSpace, nullValue, nanValue, positiveInf, negativeInf, dateFormat, timestampFormat, maxColumns, maxCharsPerColumn, maxMalformedLogPerPartition, mode, columnNameOfCorruptRecord, multiLine, charToEscapeQuoteEscaping, samplingRatio, enforceSchema, emptyValue, locale, lineSep, pathGlobFilter, recursiveFileLookup, modifiedBefore, modifiedAfter, unescapedQuoteHandling)\u001b[0m\n\u001b[1;32m    738\u001b[0m \u001b[38;5;28;01mif\u001b[39;00m \u001b[38;5;28mtype\u001b[39m(path) \u001b[38;5;241m==\u001b[39m \u001b[38;5;28mlist\u001b[39m:\n\u001b[1;32m    739\u001b[0m     \u001b[38;5;28;01massert\u001b[39;00m \u001b[38;5;28mself\u001b[39m\u001b[38;5;241m.\u001b[39m_spark\u001b[38;5;241m.\u001b[39m_sc\u001b[38;5;241m.\u001b[39m_jvm \u001b[38;5;129;01mis\u001b[39;00m \u001b[38;5;129;01mnot\u001b[39;00m \u001b[38;5;28;01mNone\u001b[39;00m\n\u001b[0;32m--> 740\u001b[0m     \u001b[38;5;28;01mreturn\u001b[39;00m \u001b[38;5;28mself\u001b[39m\u001b[38;5;241m.\u001b[39m_df(\u001b[38;5;28;43mself\u001b[39;49m\u001b[38;5;241;43m.\u001b[39;49m\u001b[43m_jreader\u001b[49m\u001b[38;5;241;43m.\u001b[39;49m\u001b[43mcsv\u001b[49m\u001b[43m(\u001b[49m\u001b[38;5;28;43mself\u001b[39;49m\u001b[38;5;241;43m.\u001b[39;49m\u001b[43m_spark\u001b[49m\u001b[38;5;241;43m.\u001b[39;49m\u001b[43m_sc\u001b[49m\u001b[38;5;241;43m.\u001b[39;49m\u001b[43m_jvm\u001b[49m\u001b[38;5;241;43m.\u001b[39;49m\u001b[43mPythonUtils\u001b[49m\u001b[38;5;241;43m.\u001b[39;49m\u001b[43mtoSeq\u001b[49m\u001b[43m(\u001b[49m\u001b[43mpath\u001b[49m\u001b[43m)\u001b[49m\u001b[43m)\u001b[49m)\n\u001b[1;32m    741\u001b[0m \u001b[38;5;28;01melif\u001b[39;00m \u001b[38;5;28misinstance\u001b[39m(path, RDD):\n\u001b[1;32m    743\u001b[0m     \u001b[38;5;28;01mdef\u001b[39;00m \u001b[38;5;21mfunc\u001b[39m(iterator):\n",
      "File \u001b[0;32m/usr/local/spark/python/lib/py4j-0.10.9.7-src.zip/py4j/java_gateway.py:1322\u001b[0m, in \u001b[0;36mJavaMember.__call__\u001b[0;34m(self, *args)\u001b[0m\n\u001b[1;32m   1316\u001b[0m command \u001b[38;5;241m=\u001b[39m proto\u001b[38;5;241m.\u001b[39mCALL_COMMAND_NAME \u001b[38;5;241m+\u001b[39m\\\n\u001b[1;32m   1317\u001b[0m     \u001b[38;5;28mself\u001b[39m\u001b[38;5;241m.\u001b[39mcommand_header \u001b[38;5;241m+\u001b[39m\\\n\u001b[1;32m   1318\u001b[0m     args_command \u001b[38;5;241m+\u001b[39m\\\n\u001b[1;32m   1319\u001b[0m     proto\u001b[38;5;241m.\u001b[39mEND_COMMAND_PART\n\u001b[1;32m   1321\u001b[0m answer \u001b[38;5;241m=\u001b[39m \u001b[38;5;28mself\u001b[39m\u001b[38;5;241m.\u001b[39mgateway_client\u001b[38;5;241m.\u001b[39msend_command(command)\n\u001b[0;32m-> 1322\u001b[0m return_value \u001b[38;5;241m=\u001b[39m \u001b[43mget_return_value\u001b[49m\u001b[43m(\u001b[49m\n\u001b[1;32m   1323\u001b[0m \u001b[43m    \u001b[49m\u001b[43manswer\u001b[49m\u001b[43m,\u001b[49m\u001b[43m \u001b[49m\u001b[38;5;28;43mself\u001b[39;49m\u001b[38;5;241;43m.\u001b[39;49m\u001b[43mgateway_client\u001b[49m\u001b[43m,\u001b[49m\u001b[43m \u001b[49m\u001b[38;5;28;43mself\u001b[39;49m\u001b[38;5;241;43m.\u001b[39;49m\u001b[43mtarget_id\u001b[49m\u001b[43m,\u001b[49m\u001b[43m \u001b[49m\u001b[38;5;28;43mself\u001b[39;49m\u001b[38;5;241;43m.\u001b[39;49m\u001b[43mname\u001b[49m\u001b[43m)\u001b[49m\n\u001b[1;32m   1325\u001b[0m \u001b[38;5;28;01mfor\u001b[39;00m temp_arg \u001b[38;5;129;01min\u001b[39;00m temp_args:\n\u001b[1;32m   1326\u001b[0m     \u001b[38;5;28;01mif\u001b[39;00m \u001b[38;5;28mhasattr\u001b[39m(temp_arg, \u001b[38;5;124m\"\u001b[39m\u001b[38;5;124m_detach\u001b[39m\u001b[38;5;124m\"\u001b[39m):\n",
      "File \u001b[0;32m/usr/local/spark/python/pyspark/errors/exceptions/captured.py:185\u001b[0m, in \u001b[0;36mcapture_sql_exception.<locals>.deco\u001b[0;34m(*a, **kw)\u001b[0m\n\u001b[1;32m    181\u001b[0m converted \u001b[38;5;241m=\u001b[39m convert_exception(e\u001b[38;5;241m.\u001b[39mjava_exception)\n\u001b[1;32m    182\u001b[0m \u001b[38;5;28;01mif\u001b[39;00m \u001b[38;5;129;01mnot\u001b[39;00m \u001b[38;5;28misinstance\u001b[39m(converted, UnknownException):\n\u001b[1;32m    183\u001b[0m     \u001b[38;5;66;03m# Hide where the exception came from that shows a non-Pythonic\u001b[39;00m\n\u001b[1;32m    184\u001b[0m     \u001b[38;5;66;03m# JVM exception message.\u001b[39;00m\n\u001b[0;32m--> 185\u001b[0m     \u001b[38;5;28;01mraise\u001b[39;00m converted \u001b[38;5;28;01mfrom\u001b[39;00m \u001b[38;5;28;01mNone\u001b[39;00m\n\u001b[1;32m    186\u001b[0m \u001b[38;5;28;01melse\u001b[39;00m:\n\u001b[1;32m    187\u001b[0m     \u001b[38;5;28;01mraise\u001b[39;00m\n",
      "\u001b[0;31mAnalysisException\u001b[0m: [PATH_NOT_FOUND] Path does not exist: file:/home/jovyan/work/Meteorite.csv."
     ]
    }
   ],
   "source": [
    "df= spark.read.csv(\"Meteorite.csv\", header=True, inferSchema= True)"
   ]
  },
  {
   "cell_type": "code",
   "execution_count": 5,
   "id": "081174f9-58d4-45a8-911c-2438c42c7805",
   "metadata": {},
   "outputs": [
    {
     "name": "stdout",
     "output_type": "stream",
     "text": [
      "+-------------------+---+--------+------------+--------+----+----+---------+---------+--------------------+----+\n",
      "|               name| id|nametype|    recclass|mass (g)|fall|year|   reclat|  reclong|         GeoLocation|_c10|\n",
      "+-------------------+---+--------+------------+--------+----+----+---------+---------+--------------------+----+\n",
      "|             Aachen|  1|   Valid|          L5|    21.0|Fell|1880|   50.775|  6.08333|   (50.775, 6.08333)|NULL|\n",
      "|             Aarhus|  2|   Valid|          H6|   720.0|Fell|1951| 56.18333| 10.23333|(56.18333, 10.23333)|NULL|\n",
      "|               Abee|  6|   Valid|         EH4|107000.0|Fell|1952| 54.21667|   -113.0|  (54.21667, -113.0)|NULL|\n",
      "|           Acapulco| 10|   Valid| Acapulcoite|  1914.0|Fell|1976| 16.88333|    -99.9|   (16.88333, -99.9)|NULL|\n",
      "|            Achiras|370|   Valid|          L6|   780.0|Fell|1902|-33.16667|   -64.95| (-33.16667, -64.95)|NULL|\n",
      "|           Adhi Kot|379|   Valid|         EH4|  4239.0|Fell|1919|     32.1|     71.8|        (32.1, 71.8)|NULL|\n",
      "|Adzhi-Bogdo (stone)|390|   Valid|       LL3-6|   910.0|Fell|1949| 44.83333| 95.16667|(44.83333, 95.16667)|NULL|\n",
      "|               Agen|392|   Valid|          H5| 30000.0|Fell|1814| 44.21667|  0.61667| (44.21667, 0.61667)|NULL|\n",
      "|             Aguada|398|   Valid|          L6|  1620.0|Fell|1930|    -31.6|-65.23333|  (-31.6, -65.23333)|NULL|\n",
      "|      Aguila Blanca|417|   Valid|           L|  1440.0|Fell|1920|-30.86667|   -64.55| (-30.86667, -64.55)|NULL|\n",
      "|   Aioun el Atrouss|423|   Valid|Diogenite-pm|  1000.0|Fell|1974| 16.39806| -9.57028|(16.39806, -9.57028)|NULL|\n",
      "|                Aïr|424|   Valid|          L6| 24000.0|Fell|1925| 19.08333|  8.38333| (19.08333, 8.38333)|NULL|\n",
      "|    Aire-sur-la-Lys|425|   Valid|     Unknown|    NULL|Fell|1769| 50.66667|  2.33333| (50.66667, 2.33333)|NULL|\n",
      "|              Akaba|426|   Valid|          L6|   779.0|Fell|1949| 29.51667|    35.05|   (29.51667, 35.05)|NULL|\n",
      "|           Akbarpur|427|   Valid|          H4|  1800.0|Fell|1838| 29.71667|    77.95|   (29.71667, 77.95)|NULL|\n",
      "|            Akwanga|432|   Valid|           H|  3000.0|Fell|1959|  8.91667|  8.43333|  (8.91667, 8.43333)|NULL|\n",
      "|            Akyumak|433|   Valid|   Iron, IVA| 50000.0|Fell|1981| 39.91667| 42.81667|(39.91667, 42.81667)|NULL|\n",
      "|            Al Rais|446|   Valid|      CR2-an|   160.0|Fell|1957| 24.41667| 39.51667|(24.41667, 39.51667)|NULL|\n",
      "|          Al Zarnkh|447|   Valid|         LL5|   700.0|Fell|2001| 13.66033|    28.96|   (13.66033, 28.96)|NULL|\n",
      "|              Alais|448|   Valid|         CI1|  6000.0|Fell|1806| 44.11667|  4.08333| (44.11667, 4.08333)|NULL|\n",
      "+-------------------+---+--------+------------+--------+----+----+---------+---------+--------------------+----+\n",
      "only showing top 20 rows\n",
      "\n"
     ]
    }
   ],
   "source": [
    "df.show()"
   ]
  },
  {
   "cell_type": "markdown",
   "id": "6e7557bc-a5ec-4a21-ae00-f38a623209ab",
   "metadata": {},
   "source": [
    "## TRANSFORMACIONES"
   ]
  },
  {
   "cell_type": "markdown",
   "id": "4190c365-05a2-4320-a4ba-5cdf49d66404",
   "metadata": {},
   "source": [
    "Tenemos una columna que solo tiene nulos, y la de GeoLocation que no vamos a utilizar"
   ]
  },
  {
   "cell_type": "code",
   "execution_count": 6,
   "id": "ac2565c4-8578-4ee8-a19c-4dd55ce0e66f",
   "metadata": {},
   "outputs": [],
   "source": [
    "df_es = df.withColumnsRenamed({\"name\":\"nombre\", \"nametype\": \"condicion\", \"recclass\": \"clasificacion\", \"mass (g)\": \"masa_gramos\", \"fall\": \"tipo_descenso\", \"year\":\"año\", \"reclat\": \"latitud\", \"reclong\":\"longitud\"})"
   ]
  },
  {
   "cell_type": "markdown",
   "id": "5e520341-bd6d-49f5-9e13-34e777324ee7",
   "metadata": {},
   "source": [
    "Vamos a tocar los nombres de las columnas, asi cuando hagamos una visualizacion de datos se vera mas bonito"
   ]
  },
  {
   "cell_type": "code",
   "execution_count": 7,
   "id": "5cb41837-0467-43ae-9e49-3c11250449b0",
   "metadata": {},
   "outputs": [],
   "source": [
    "df_drop = df_es.drop(\"GeoLocation\",\"_c10\")"
   ]
  },
  {
   "cell_type": "code",
   "execution_count": 8,
   "id": "aebbec88-6ea9-4e8d-bdd1-58ada3bc3c1d",
   "metadata": {},
   "outputs": [
    {
     "name": "stdout",
     "output_type": "stream",
     "text": [
      "+-------------------+---+---------+-------------+-----------+-------------+----+---------+---------+\n",
      "|             nombre| id|condicion|clasificacion|masa_gramos|tipo_descenso| año|  latitud| longitud|\n",
      "+-------------------+---+---------+-------------+-----------+-------------+----+---------+---------+\n",
      "|             Aachen|  1|    Valid|           L5|       21.0|         Fell|1880|   50.775|  6.08333|\n",
      "|             Aarhus|  2|    Valid|           H6|      720.0|         Fell|1951| 56.18333| 10.23333|\n",
      "|               Abee|  6|    Valid|          EH4|   107000.0|         Fell|1952| 54.21667|   -113.0|\n",
      "|           Acapulco| 10|    Valid|  Acapulcoite|     1914.0|         Fell|1976| 16.88333|    -99.9|\n",
      "|            Achiras|370|    Valid|           L6|      780.0|         Fell|1902|-33.16667|   -64.95|\n",
      "|           Adhi Kot|379|    Valid|          EH4|     4239.0|         Fell|1919|     32.1|     71.8|\n",
      "|Adzhi-Bogdo (stone)|390|    Valid|        LL3-6|      910.0|         Fell|1949| 44.83333| 95.16667|\n",
      "|               Agen|392|    Valid|           H5|    30000.0|         Fell|1814| 44.21667|  0.61667|\n",
      "|             Aguada|398|    Valid|           L6|     1620.0|         Fell|1930|    -31.6|-65.23333|\n",
      "|      Aguila Blanca|417|    Valid|            L|     1440.0|         Fell|1920|-30.86667|   -64.55|\n",
      "|   Aioun el Atrouss|423|    Valid| Diogenite-pm|     1000.0|         Fell|1974| 16.39806| -9.57028|\n",
      "|                Aïr|424|    Valid|           L6|    24000.0|         Fell|1925| 19.08333|  8.38333|\n",
      "|    Aire-sur-la-Lys|425|    Valid|      Unknown|       NULL|         Fell|1769| 50.66667|  2.33333|\n",
      "|              Akaba|426|    Valid|           L6|      779.0|         Fell|1949| 29.51667|    35.05|\n",
      "|           Akbarpur|427|    Valid|           H4|     1800.0|         Fell|1838| 29.71667|    77.95|\n",
      "|            Akwanga|432|    Valid|            H|     3000.0|         Fell|1959|  8.91667|  8.43333|\n",
      "|            Akyumak|433|    Valid|    Iron, IVA|    50000.0|         Fell|1981| 39.91667| 42.81667|\n",
      "|            Al Rais|446|    Valid|       CR2-an|      160.0|         Fell|1957| 24.41667| 39.51667|\n",
      "|          Al Zarnkh|447|    Valid|          LL5|      700.0|         Fell|2001| 13.66033|    28.96|\n",
      "|              Alais|448|    Valid|          CI1|     6000.0|         Fell|1806| 44.11667|  4.08333|\n",
      "+-------------------+---+---------+-------------+-----------+-------------+----+---------+---------+\n",
      "only showing top 20 rows\n",
      "\n"
     ]
    }
   ],
   "source": [
    "df_drop.show()"
   ]
  },
  {
   "cell_type": "markdown",
   "id": "9fdf246b-389b-4eab-aa0b-6db35638ffc1",
   "metadata": {},
   "source": [
    "## ELIMINACION DE NULOS "
   ]
  },
  {
   "cell_type": "code",
   "execution_count": 12,
   "id": "01da4b07-d4fe-4dba-8dd7-fa1ca5a0f6da",
   "metadata": {},
   "outputs": [],
   "source": [
    "df_null = df_drop.dropna(subset=[\"latitud\", \"longitud\"])\n"
   ]
  },
  {
   "cell_type": "markdown",
   "id": "1590e5e6-8c15-44a3-995b-3e13c37eb85d",
   "metadata": {},
   "source": [
    "## OUTPUT"
   ]
  },
  {
   "cell_type": "code",
   "execution_count": null,
   "id": "7b030728-48fc-4337-be60-3843ac74916e",
   "metadata": {},
   "outputs": [],
   "source": []
  }
 ],
 "metadata": {
  "kernelspec": {
   "display_name": "Python 3 (ipykernel)",
   "language": "python",
   "name": "python3"
  },
  "language_info": {
   "codemirror_mode": {
    "name": "ipython",
    "version": 3
   },
   "file_extension": ".py",
   "mimetype": "text/x-python",
   "name": "python",
   "nbconvert_exporter": "python",
   "pygments_lexer": "ipython3",
   "version": "3.11.6"
  }
 },
 "nbformat": 4,
 "nbformat_minor": 5
}
