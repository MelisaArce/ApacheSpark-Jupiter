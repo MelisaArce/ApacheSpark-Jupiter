{
 "cells": [
  {
   "cell_type": "code",
   "execution_count": 1,
   "id": "9e1aa900-4fe5-489f-9e8e-b8f832bcedf1",
   "metadata": {},
   "outputs": [
    {
     "name": "stdout",
     "output_type": "stream",
     "text": [
      "spark://spark-master:7077\n"
     ]
    },
    {
     "data": {
      "text/html": [
       "\n",
       "            <div>\n",
       "                <p><b>SparkSession - in-memory</b></p>\n",
       "                \n",
       "        <div>\n",
       "            <p><b>SparkContext</b></p>\n",
       "\n",
       "            <p><a href=\"http://b390bb44df7c:4040\">Spark UI</a></p>\n",
       "\n",
       "            <dl>\n",
       "              <dt>Version</dt>\n",
       "                <dd><code>v3.5.0</code></dd>\n",
       "              <dt>Master</dt>\n",
       "                <dd><code>spark://spark-master:7077</code></dd>\n",
       "              <dt>AppName</dt>\n",
       "                <dd><code>eda</code></dd>\n",
       "            </dl>\n",
       "        </div>\n",
       "        \n",
       "            </div>\n",
       "        "
      ],
      "text/plain": [
       "<pyspark.sql.session.SparkSession at 0x7ed81d6a0e10>"
      ]
     },
     "execution_count": 1,
     "metadata": {},
     "output_type": "execute_result"
    }
   ],
   "source": [
    "from pyspark.sql import SparkSession\n",
    "spark_cluster = SparkSession.builder\\\n",
    "    .master(\"spark://spark-master:7077\")\\\n",
    "    .appName(\"eda\")\\\n",
    "    .config(\"spark.executor.memory\", \"2g\")\\\n",
    "    .config(\"spark.executor.cores\", \"2\")\\\n",
    "    .getOrCreate()\n",
    "\n",
    "print(spark_cluster.sparkContext.master)\n",
    "spark_cluster"
   ]
  },
  {
   "cell_type": "code",
   "execution_count": 2,
   "id": "abac0133-9547-4033-a65f-2f43d73ecdb3",
   "metadata": {},
   "outputs": [
    {
     "name": "stdout",
     "output_type": "stream",
     "text": [
      "+-------------------+---+--------+------------+--------+----+----+---------+---------+--------------------+----+\n",
      "|               name| id|nametype|    recclass|mass (g)|fall|year|   reclat|  reclong|         GeoLocation|_c10|\n",
      "+-------------------+---+--------+------------+--------+----+----+---------+---------+--------------------+----+\n",
      "|             Aachen|  1|   Valid|          L5|    21.0|Fell|1880|   50.775|  6.08333|   (50.775, 6.08333)|NULL|\n",
      "|             Aarhus|  2|   Valid|          H6|   720.0|Fell|1951| 56.18333| 10.23333|(56.18333, 10.23333)|NULL|\n",
      "|               Abee|  6|   Valid|         EH4|107000.0|Fell|1952| 54.21667|   -113.0|  (54.21667, -113.0)|NULL|\n",
      "|           Acapulco| 10|   Valid| Acapulcoite|  1914.0|Fell|1976| 16.88333|    -99.9|   (16.88333, -99.9)|NULL|\n",
      "|            Achiras|370|   Valid|          L6|   780.0|Fell|1902|-33.16667|   -64.95| (-33.16667, -64.95)|NULL|\n",
      "|           Adhi Kot|379|   Valid|         EH4|  4239.0|Fell|1919|     32.1|     71.8|        (32.1, 71.8)|NULL|\n",
      "|Adzhi-Bogdo (stone)|390|   Valid|       LL3-6|   910.0|Fell|1949| 44.83333| 95.16667|(44.83333, 95.16667)|NULL|\n",
      "|               Agen|392|   Valid|          H5| 30000.0|Fell|1814| 44.21667|  0.61667| (44.21667, 0.61667)|NULL|\n",
      "|             Aguada|398|   Valid|          L6|  1620.0|Fell|1930|    -31.6|-65.23333|  (-31.6, -65.23333)|NULL|\n",
      "|      Aguila Blanca|417|   Valid|           L|  1440.0|Fell|1920|-30.86667|   -64.55| (-30.86667, -64.55)|NULL|\n",
      "|   Aioun el Atrouss|423|   Valid|Diogenite-pm|  1000.0|Fell|1974| 16.39806| -9.57028|(16.39806, -9.57028)|NULL|\n",
      "|                Aïr|424|   Valid|          L6| 24000.0|Fell|1925| 19.08333|  8.38333| (19.08333, 8.38333)|NULL|\n",
      "|    Aire-sur-la-Lys|425|   Valid|     Unknown|    NULL|Fell|1769| 50.66667|  2.33333| (50.66667, 2.33333)|NULL|\n",
      "|              Akaba|426|   Valid|          L6|   779.0|Fell|1949| 29.51667|    35.05|   (29.51667, 35.05)|NULL|\n",
      "|           Akbarpur|427|   Valid|          H4|  1800.0|Fell|1838| 29.71667|    77.95|   (29.71667, 77.95)|NULL|\n",
      "|            Akwanga|432|   Valid|           H|  3000.0|Fell|1959|  8.91667|  8.43333|  (8.91667, 8.43333)|NULL|\n",
      "|            Akyumak|433|   Valid|   Iron, IVA| 50000.0|Fell|1981| 39.91667| 42.81667|(39.91667, 42.81667)|NULL|\n",
      "|            Al Rais|446|   Valid|      CR2-an|   160.0|Fell|1957| 24.41667| 39.51667|(24.41667, 39.51667)|NULL|\n",
      "|          Al Zarnkh|447|   Valid|         LL5|   700.0|Fell|2001| 13.66033|    28.96|   (13.66033, 28.96)|NULL|\n",
      "|              Alais|448|   Valid|         CI1|  6000.0|Fell|1806| 44.11667|  4.08333| (44.11667, 4.08333)|NULL|\n",
      "+-------------------+---+--------+------------+--------+----+----+---------+---------+--------------------+----+\n",
      "only showing top 20 rows\n",
      "\n"
     ]
    }
   ],
   "source": [
    "df = spark_cluster.read.csv(\"/data/m.csv\", header=True, inferSchema=True)\n",
    "df.show()\n"
   ]
  },
  {
   "cell_type": "code",
   "execution_count": null,
   "id": "7b1aeb06-f748-480f-8495-71f38138e82d",
   "metadata": {},
   "outputs": [],
   "source": []
  }
 ],
 "metadata": {
  "kernelspec": {
   "display_name": "Python 3 (ipykernel)",
   "language": "python",
   "name": "python3"
  },
  "language_info": {
   "codemirror_mode": {
    "name": "ipython",
    "version": 3
   },
   "file_extension": ".py",
   "mimetype": "text/x-python",
   "name": "python",
   "nbconvert_exporter": "python",
   "pygments_lexer": "ipython3",
   "version": "3.11.6"
  }
 },
 "nbformat": 4,
 "nbformat_minor": 5
}
