{
 "cells": [
  {
   "cell_type": "markdown",
   "id": "952a61c0-5869-447e-a605-e11f8cfc840e",
   "metadata": {},
   "source": [
    "## Import necesarios"
   ]
  },
  {
   "cell_type": "code",
   "execution_count": 1,
   "id": "a638a46c-2454-4191-98f2-23c596b8a7ef",
   "metadata": {},
   "outputs": [],
   "source": [
    "from pyspark.sql import SparkSession"
   ]
  },
  {
   "cell_type": "code",
   "execution_count": 2,
   "id": "e8a8773d-9217-4c91-8f38-05cf6efdb091",
   "metadata": {},
   "outputs": [],
   "source": [
    "from pyspark.sql.functions import col, sum"
   ]
  },
  {
   "cell_type": "code",
   "execution_count": 3,
   "id": "6f853f22-b9cc-46d5-a6a0-3b35a5efc894",
   "metadata": {},
   "outputs": [],
   "source": [
    "import matplotlib.pyplot as plt"
   ]
  },
  {
   "cell_type": "code",
   "execution_count": 4,
   "id": "d87bf612-9788-47b9-8f17-5f9de9f7ba80",
   "metadata": {},
   "outputs": [],
   "source": [
    "import seaborn as sns"
   ]
  },
  {
   "cell_type": "code",
   "execution_count": 5,
   "id": "75461f33-b0ea-4ddd-b212-6a0b10c7ea70",
   "metadata": {},
   "outputs": [],
   "source": [
    "from pyspark.sql.functions import desc, asc"
   ]
  },
  {
   "cell_type": "code",
   "execution_count": 6,
   "id": "3fb63969-790f-4237-8a8a-b9061dc1af40",
   "metadata": {},
   "outputs": [
    {
     "name": "stdout",
     "output_type": "stream",
     "text": [
      "Collecting folium\n",
      "  Downloading folium-0.19.5-py2.py3-none-any.whl.metadata (4.1 kB)\n",
      "Collecting branca>=0.6.0 (from folium)\n",
      "  Downloading branca-0.8.1-py3-none-any.whl.metadata (1.5 kB)\n",
      "Requirement already satisfied: jinja2>=2.9 in /opt/conda/lib/python3.11/site-packages (from folium) (3.1.2)\n",
      "Requirement already satisfied: numpy in /opt/conda/lib/python3.11/site-packages (from folium) (1.24.4)\n",
      "Requirement already satisfied: requests in /opt/conda/lib/python3.11/site-packages (from folium) (2.31.0)\n",
      "Requirement already satisfied: xyzservices in /opt/conda/lib/python3.11/site-packages (from folium) (2023.10.0)\n",
      "Requirement already satisfied: MarkupSafe>=2.0 in /opt/conda/lib/python3.11/site-packages (from jinja2>=2.9->folium) (2.1.3)\n",
      "Requirement already satisfied: charset-normalizer<4,>=2 in /opt/conda/lib/python3.11/site-packages (from requests->folium) (3.3.0)\n",
      "Requirement already satisfied: idna<4,>=2.5 in /opt/conda/lib/python3.11/site-packages (from requests->folium) (3.4)\n",
      "Requirement already satisfied: urllib3<3,>=1.21.1 in /opt/conda/lib/python3.11/site-packages (from requests->folium) (2.0.7)\n",
      "Requirement already satisfied: certifi>=2017.4.17 in /opt/conda/lib/python3.11/site-packages (from requests->folium) (2023.7.22)\n",
      "Downloading folium-0.19.5-py2.py3-none-any.whl (110 kB)\n",
      "\u001b[2K   \u001b[90m━━━━━━━━━━━━━━━━━━━━━━━━━━━━━━━━━━━━━━━━\u001b[0m \u001b[32m110.9/110.9 kB\u001b[0m \u001b[31m2.5 MB/s\u001b[0m eta \u001b[36m0:00:00\u001b[0m \u001b[36m0:00:01\u001b[0m\n",
      "\u001b[?25hDownloading branca-0.8.1-py3-none-any.whl (26 kB)\n",
      "Installing collected packages: branca, folium\n",
      "Successfully installed branca-0.8.1 folium-0.19.5\n",
      "Note: you may need to restart the kernel to use updated packages.\n"
     ]
    }
   ],
   "source": [
    "pip install folium\n"
   ]
  },
  {
   "cell_type": "code",
   "execution_count": 7,
   "id": "dc2f7195-5615-4f5a-bb08-7fce499b2f40",
   "metadata": {},
   "outputs": [
    {
     "name": "stdout",
     "output_type": "stream",
     "text": [
      "Collecting plotly\n",
      "  Downloading plotly-6.0.0-py3-none-any.whl.metadata (5.6 kB)\n",
      "Collecting narwhals>=1.15.1 (from plotly)\n",
      "  Downloading narwhals-1.28.0-py3-none-any.whl.metadata (10 kB)\n",
      "Requirement already satisfied: packaging in /opt/conda/lib/python3.11/site-packages (from plotly) (23.2)\n",
      "Downloading plotly-6.0.0-py3-none-any.whl (14.8 MB)\n",
      "\u001b[2K   \u001b[90m━━━━━━━━━━━━━━━━━━━━━━━━━━━━━━━━━━━━━━━━\u001b[0m \u001b[32m14.8/14.8 MB\u001b[0m \u001b[31m15.8 MB/s\u001b[0m eta \u001b[36m0:00:00\u001b[0m00:01\u001b[0m00:01\u001b[0m\n",
      "\u001b[?25hDownloading narwhals-1.28.0-py3-none-any.whl (308 kB)\n",
      "\u001b[2K   \u001b[90m━━━━━━━━━━━━━━━━━━━━━━━━━━━━━━━━━━━━━━━━\u001b[0m \u001b[32m308.9/308.9 kB\u001b[0m \u001b[31m12.7 MB/s\u001b[0m eta \u001b[36m0:00:00\u001b[0m\n",
      "\u001b[?25hInstalling collected packages: narwhals, plotly\n",
      "Successfully installed narwhals-1.28.0 plotly-6.0.0\n",
      "Note: you may need to restart the kernel to use updated packages.\n"
     ]
    }
   ],
   "source": [
    "pip install plotly"
   ]
  },
  {
   "cell_type": "code",
   "execution_count": 8,
   "id": "691796df-ab5a-4e1d-9170-b29e79215a67",
   "metadata": {},
   "outputs": [],
   "source": [
    "import folium\n",
    "from folium.plugins import HeatMap"
   ]
  },
  {
   "cell_type": "markdown",
   "id": "e1f55794-fb08-4044-b0de-9410bf2053fa",
   "metadata": {},
   "source": [
    "## Creación de la sesión de Spark"
   ]
  },
  {
   "cell_type": "code",
   "execution_count": 9,
   "id": "b8ea1d91-39da-4b37-bf68-d3a7d30d2a8a",
   "metadata": {},
   "outputs": [
    {
     "name": "stdout",
     "output_type": "stream",
     "text": [
      "spark://spark-master:7077\n"
     ]
    }
   ],
   "source": [
    "spark = SparkSession.builder\\\n",
    "    .master(\"spark://spark-master:7077\")\\\n",
    "    .appName(\"eda\")\\\n",
    "    .config(\"spark.executor.memory\", \"2g\")\\\n",
    "    .config(\"spark.executor.cores\", \"2\")\\\n",
    "    .getOrCreate()\n",
    "\n",
    "print(spark.sparkContext.master)\n"
   ]
  },
  {
   "cell_type": "code",
   "execution_count": 10,
   "id": "ff56c41c-e9a0-4b94-aee9-8852b06dd2ec",
   "metadata": {},
   "outputs": [
    {
     "data": {
      "text/html": [
       "\n",
       "            <div>\n",
       "                <p><b>SparkSession - in-memory</b></p>\n",
       "                \n",
       "        <div>\n",
       "            <p><b>SparkContext</b></p>\n",
       "\n",
       "            <p><a href=\"http://2b9de948008a:4040\">Spark UI</a></p>\n",
       "\n",
       "            <dl>\n",
       "              <dt>Version</dt>\n",
       "                <dd><code>v3.5.0</code></dd>\n",
       "              <dt>Master</dt>\n",
       "                <dd><code>spark://spark-master:7077</code></dd>\n",
       "              <dt>AppName</dt>\n",
       "                <dd><code>eda</code></dd>\n",
       "            </dl>\n",
       "        </div>\n",
       "        \n",
       "            </div>\n",
       "        "
      ],
      "text/plain": [
       "<pyspark.sql.session.SparkSession at 0x78c1cd090590>"
      ]
     },
     "execution_count": 10,
     "metadata": {},
     "output_type": "execute_result"
    }
   ],
   "source": [
    "spark"
   ]
  },
  {
   "cell_type": "markdown",
   "id": "6267111d-0074-4f5b-9909-1b8132515cca",
   "metadata": {},
   "source": [
    "## Lectura de datasets"
   ]
  },
  {
   "cell_type": "markdown",
   "id": "ba170724-af18-49b0-9cdd-e4cd030dd258",
   "metadata": {},
   "source": [
    "## Análisis Exploratorio de los Datos"
   ]
  },
  {
   "cell_type": "code",
   "execution_count": null,
   "id": "77e5bf53-e261-43d9-bff0-3ad7e5139eee",
   "metadata": {
    "editable": true,
    "slideshow": {
     "slide_type": ""
    },
    "tags": []
   },
   "outputs": [],
   "source": [
    "df.show(10)"
   ]
  },
  {
   "cell_type": "code",
   "execution_count": null,
   "id": "04c396e7-29d2-4348-9c26-12693bfa0e5c",
   "metadata": {},
   "outputs": [],
   "source": [
    "df.count()  # Cantidad total de registros"
   ]
  },
  {
   "cell_type": "code",
   "execution_count": null,
   "id": "ef91d83d-5dc1-41e0-9ec6-ec56fcd5a157",
   "metadata": {},
   "outputs": [],
   "source": [
    "df.printSchema()  # Muestra el esquema de las columnas y tipos de datos"
   ]
  },
  {
   "cell_type": "code",
   "execution_count": null,
   "id": "e09a0f6e-97b8-4cf2-8e5f-832ef5733c4d",
   "metadata": {},
   "outputs": [],
   "source": [
    "#contar filas y columnas\n",
    "print(f\"Filas: {df.count()}, Columnas: {len(df.columns)}\")"
   ]
  },
  {
   "cell_type": "code",
   "execution_count": null,
   "id": "c3806b69-801f-4419-86e2-fc7d61f77416",
   "metadata": {},
   "outputs": [],
   "source": [
    "df.describe().show()  # Estadísticas básicas de todas las columnas numéricas"
   ]
  },
  {
   "cell_type": "code",
   "execution_count": null,
   "id": "1d8dd2b7-16af-4d09-afff-0c5646d166fd",
   "metadata": {},
   "outputs": [],
   "source": [
    "df.sort(\"year\").show()  # Valores únicos de una columna"
   ]
  },
  {
   "cell_type": "markdown",
   "id": "fc669e44-8351-4f4a-9211-e29a35c3a062",
   "metadata": {},
   "source": [
    "## Nulos"
   ]
  },
  {
   "cell_type": "code",
   "execution_count": null,
   "id": "82ec1f56-c04d-45d8-90a9-2a848a9f3b5e",
   "metadata": {
    "editable": true,
    "slideshow": {
     "slide_type": ""
    },
    "tags": []
   },
   "outputs": [],
   "source": [
    "df.select([sum(col(c).isNull().cast(\"int\")).alias(c) for c in df.columns]).show() #Para ver cuántos valores nulos tiene cada columna:"
   ]
  },
  {
   "cell_type": "code",
   "execution_count": null,
   "id": "bcd4853f-459e-4ea0-8cfa-a4a0fbddefce",
   "metadata": {},
   "outputs": [],
   "source": [
    "df_filter = df.filter(\n",
    "    col(\"year\").isNull() & col(\"reclat\").isNull() & col(\"reclong\").isNull()\n",
    ")\n"
   ]
  },
  {
   "cell_type": "code",
   "execution_count": null,
   "id": "ea1770cf-ee3d-49e8-aff9-f6848b4e0c02",
   "metadata": {},
   "outputs": [],
   "source": [
    "df_filter.show()"
   ]
  },
  {
   "cell_type": "code",
   "execution_count": null,
   "id": "cd84c6eb-158b-4f83-b61c-b3958d56d247",
   "metadata": {},
   "outputs": [],
   "source": [
    "#Para las variables categóricas, contamos las ocurrencias:\n",
    "df.groupBy(\"fall\").count().show()\n"
   ]
  },
  {
   "cell_type": "markdown",
   "id": "f6ffde1a-dbf8-4416-830f-81faa0d5a6ef",
   "metadata": {},
   "source": [
    "esto nos dice que hay mas registros de personas que encontraron los meteoritos, que personas que lo vieron caer"
   ]
  },
  {
   "cell_type": "code",
   "execution_count": null,
   "id": "27c9738b-9bc8-4b3c-b035-9e707196b4e8",
   "metadata": {},
   "outputs": [],
   "source": [
    "df.groupBy(\"recclass\").count().orderBy(col(\"count\").desc()).show(10)"
   ]
  },
  {
   "cell_type": "markdown",
   "id": "ff2c5bfe-72f7-4f3e-98c0-ed245d979d7d",
   "metadata": {},
   "source": [
    "Esto nos dice que hay mas meteoritos del tipo L6 "
   ]
  },
  {
   "cell_type": "code",
   "execution_count": null,
   "id": "6c44ff83-904e-4668-8d1c-e614bf7f8354",
   "metadata": {},
   "outputs": [],
   "source": [
    "# Convertir a Pandas para visualización\n",
    "df_pandas = df.select(\"mass (g)\").toPandas()\n",
    "\n",
    "# Filtramos valores atípicos para mejor visualización\n",
    "df_pandas = df_pandas[df_pandas[\"mass (g)\"] < 5000]\n",
    "\n",
    "# Graficamos\n",
    "plt.figure(figsize=(10,5))\n",
    "sns.histplot(df_pandas[\"mass (g)\"], bins=50, kde=True)\n",
    "plt.xlabel(\"Masa (g)\")\n",
    "plt.ylabel(\"Frecuencia\")\n",
    "plt.title(\"Distribución de la Masa de los Meteoritos\")\n",
    "plt.show()"
   ]
  },
  {
   "cell_type": "code",
   "execution_count": null,
   "id": "6042d7e3-e836-4960-a74d-9e7d40901932",
   "metadata": {},
   "outputs": [],
   "source": [
    "# Filtramos coordenadas válidas\n",
    "df_geo = df.select(\"reclat\", \"reclong\").dropna().toPandas()\n",
    "\n",
    "# Crear mapa\n",
    "m = folium.Map(location=[0, 0], zoom_start=2)\n",
    "\n",
    "# Añadir puntos de calor\n",
    "HeatMap(df_geo.values, radius=8).add_to(m)\n",
    "\n",
    "# Mostrar mapa\n",
    "m"
   ]
  },
  {
   "cell_type": "markdown",
   "id": "a90373c6-efb7-4dae-89f1-9024932b6505",
   "metadata": {},
   "source": [
    "1) transformaciones de tipo de dato\n",
    "2) para eliminar nulos df = df.dropna()\n",
    "3) para transformar nulos df = df.fillna({\"nombre_de_columna\": \"valor_predeterminado\"})\n"
   ]
  },
  {
   "cell_type": "code",
   "execution_count": null,
   "id": "9d577169-a046-43cb-aec0-afc11795e5a0",
   "metadata": {
    "editable": true,
    "slideshow": {
     "slide_type": ""
    },
    "tags": []
   },
   "outputs": [],
   "source": [
    "from pyspark.sql.functions import col, count\n",
    "import pandas as pd\n",
    "import plotly.express as px\n",
    "\n",
    "# Contar la cantidad de ocurrencias por categoría en \"recclass\"\n",
    "df_counts = df.groupBy(\"recclass\").agg(count(\"*\").alias(\"count\"))\n",
    "\n",
    "# Ordenar de mayor a menor y seleccionar las 40 primeras clases\n",
    "df_counts = df_counts.orderBy(col(\"count\").desc()).limit(40)\n",
    "\n",
    "# Convertir el DataFrame de Spark a Pandas\n",
    "pdf = df_counts.toPandas()\n",
    "\n",
    "# Graficar con Plotly\n",
    "fig = px.bar(pdf, x=\"recclass\", y=\"count\")\n",
    "fig.show()\n"
   ]
  }
 ],
 "metadata": {
  "kernelspec": {
   "display_name": "Python 3 (ipykernel)",
   "language": "python",
   "name": "python3"
  },
  "language_info": {
   "codemirror_mode": {
    "name": "ipython",
    "version": 3
   },
   "file_extension": ".py",
   "mimetype": "text/x-python",
   "name": "python",
   "nbconvert_exporter": "python",
   "pygments_lexer": "ipython3",
   "version": "3.11.6"
  }
 },
 "nbformat": 4,
 "nbformat_minor": 5
}
